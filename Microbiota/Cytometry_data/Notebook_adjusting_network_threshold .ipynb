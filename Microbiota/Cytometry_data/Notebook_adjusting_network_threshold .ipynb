{
 "cells": [
  {
   "cell_type": "code",
   "execution_count": 1,
   "metadata": {},
   "outputs": [],
   "source": [
    "import pandas as pd\n",
    "import numpy as np\n",
    "import seaborn as sns\n",
    "import networkx as nx\n",
    "from sklearn.preprocessing import LabelEncoder\n",
    "from matplotlib import cm\n",
    "import matplotlib.pyplot as plt\n",
    "\n",
    "path_to_store_figures = '~/Microbiota/Cytometry_data/Figures_LDA_microbiota'"
   ]
  },
  {
   "cell_type": "code",
   "execution_count": null,
   "metadata": {},
   "outputs": [],
   "source": [
    "time_of_calculation = 40\n",
    "topic = 8\n",
    "dataframe_for_tops = pd.read_csv(f'~/Microbiota/Cytometry_data/Data_frame_LDA_on_microbiota/Dataframe_for_network_{topic}_topic_{time_of_calculation}_run.csv',index_col=0)\n",
    "information_frame = pd.read_csv('~/FlowRepository_FR-FCM-ZYVH_files/attachments/Metadata_DC.csv')\n",
    "\n",
    "\n",
    "threshold_links = 0.28\n",
    "dataframe_for_tops_norm = dataframe_for_tops/time_of_calculation\n",
    "dataframe_for_tops_norm[dataframe_for_tops_norm<threshold_links]=0\n",
    "\n",
    "#Drawn network\n",
    "G = nx.from_numpy_matrix(dataframe_for_tops_norm.values)\n",
    "G = nx.relabel_nodes(G, dict(enumerate(dataframe_for_tops_norm.columns)))\n",
    "my_pos = nx.spring_layout(G, seed = 100)\n",
    "\n",
    "information_frame['Health status binary'] = LabelEncoder().fit_transform(information_frame['Health status'])\n",
    "N_colors=2\n",
    "cm_dis=np.linspace(0, 0.8 ,N_colors) \n",
    "colors = [cm.RdBu(x) for x in cm_dis]\n",
    "color_edges=[]\n",
    "\n",
    "fig, axes = plt.subplots( figsize=(30,20))\n",
    "for node in G:\n",
    "    temp=information_frame.loc[information_frame['Individual']==node] #Finding time of node \n",
    "    \n",
    "    color=colors[int(temp['Health status binary'])]\n",
    "    if color not in color_edges:\n",
    "        plt.scatter([],[],color=color, label=temp['Health status'].values[0])\n",
    "    color_edges.append(color)\n",
    "\n",
    "weights = [20*(G[u][v]['weight'])**4 for u,v in G.edges()]\n",
    "\n",
    "d = dict(G.degree)\n",
    "nx.draw(G,pos = my_pos,with_labels=None,node_color=color_edges,node_size=[v * 100 for v in d.values()],width=weights)\n",
    "axes.legend(loc = 'lower right', markerscale=4,scatterpoints=1,bbox_to_anchor=(1, 0), ncol = 1, prop = {'size' : 30})\n",
    "plt.tight_layout()\n",
    "plt.savefig(path_to_store_figures + f'/Network_of_patient_healthy_stats_{topic}_topics_{time_of_calculation}_runs_thresholded.svg', format = 'svg', bbox_inches='tight')\n"
   ]
  },
  {
   "cell_type": "code",
   "execution_count": null,
   "metadata": {},
   "outputs": [],
   "source": [
    "#Color by bacterioides\n",
    "information_frame['Enterotype binary'] = LabelEncoder().fit_transform(information_frame['Enterotype'])\n",
    "N_colors=4\n",
    "cm_dis=np.linspace(0, 0.8 ,N_colors) \n",
    "colors = [ cm.tab20c(x) for x in cm_dis]\n",
    "color_edges=[]\n",
    "                \n",
    "fig, axes = plt.subplots( figsize=(30,20))\n",
    "for node in G:\n",
    "    temp=information_frame.loc[information_frame['Individual']==node] #Finding time of node \n",
    "    \n",
    "    color=colors[int(temp['Enterotype binary'])]\n",
    "    if color not in color_edges:\n",
    "        plt.scatter([],[],color=color, label=temp['Enterotype'].values[0])\n",
    "    color_edges.append(color)\n",
    "\n",
    "weights = [20*(G[u][v]['weight'])**4 for u,v in G.edges()]\n",
    "d = dict(G.degree)\n",
    "nx.draw(G,pos= my_pos, with_labels=False,node_color=color_edges,width=weights, node_size=[v * 100 for v in d.values()])\n",
    "axes.legend(loc = 'lower right', markerscale=4,scatterpoints=1,bbox_to_anchor=(1, 0), ncol = 1, prop = {'size' : 30})\n",
    "\n",
    "#plt.legend(loc=\"lower left\",fontsize=30)\n",
    "plt.savefig(path_to_store_figures + f'/Network_of_patient_microbiota_stats_{topic}_topics_{time_of_calculation}_runs_thresholded.svg', format = 'svg', bbox_inches='tight')\n",
    "\n"
   ]
  }
 ],
 "metadata": {
  "interpreter": {
   "hash": "0652989f7ee756fb4ae92b270e2e737b39dcddd5621bc6372bcab5aa189ded92"
  },
  "kernelspec": {
   "display_name": "Python 3.8.8 64-bit ('Pytorch': conda)",
   "name": "python3"
  },
  "language_info": {
   "codemirror_mode": {
    "name": "ipython",
    "version": 3
   },
   "file_extension": ".py",
   "mimetype": "text/x-python",
   "name": "python",
   "nbconvert_exporter": "python",
   "pygments_lexer": "ipython3",
   "version": "3.8.8"
  },
  "orig_nbformat": 4
 },
 "nbformat": 4,
 "nbformat_minor": 2
}
